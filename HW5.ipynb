{
 "cells": [
  {
   "cell_type": "markdown",
   "id": "0f8c50e8",
   "metadata": {},
   "source": [
    "Q1. Pipenv version : 2021.5.29"
   ]
  },
  {
   "cell_type": "markdown",
   "id": "404ad12d",
   "metadata": {},
   "source": [
    "Q2. \"sha256:121f78d6564000dc5e968394f45aac87981fcaaf2be40cfcd8f07b2baa1e1829\""
   ]
  },
  {
   "cell_type": "markdown",
   "id": "f10b594b",
   "metadata": {},
   "source": [
    "Q3."
   ]
  },
  {
   "cell_type": "code",
   "execution_count": 25,
   "id": "c82cf369",
   "metadata": {},
   "outputs": [],
   "source": [
    "import pickle"
   ]
  },
  {
   "cell_type": "code",
   "execution_count": 26,
   "id": "5daa1020",
   "metadata": {},
   "outputs": [],
   "source": [
    "model_bin='model1.bin'\n",
    "dv_bin = 'dv.bin'"
   ]
  },
  {
   "cell_type": "markdown",
   "id": "c5a2ebf9",
   "metadata": {},
   "source": [
    "load model & dictvect."
   ]
  },
  {
   "cell_type": "code",
   "execution_count": 27,
   "id": "21b2704d",
   "metadata": {
    "scrolled": true
   },
   "outputs": [
    {
     "name": "stderr",
     "output_type": "stream",
     "text": [
      "C:\\Users\\azakaria\\Anaconda3\\lib\\site-packages\\sklearn\\base.py:310: UserWarning: Trying to unpickle estimator LogisticRegression from version 1.0 when using version 0.24.1. This might lead to breaking code or invalid results. Use at your own risk.\n",
      "  warnings.warn(\n",
      "C:\\Users\\azakaria\\Anaconda3\\lib\\site-packages\\sklearn\\base.py:310: UserWarning: Trying to unpickle estimator DictVectorizer from version 1.0 when using version 0.24.1. This might lead to breaking code or invalid results. Use at your own risk.\n",
      "  warnings.warn(\n"
     ]
    }
   ],
   "source": [
    "with open(model_bin, 'rb') as model_bin:\n",
    "    model = pickle.load(model_bin)\n",
    "        \n",
    "with open(dv_bin, 'rb') as dv_bin:\n",
    "    dv = pickle.load(dv_bin)"
   ]
  },
  {
   "cell_type": "markdown",
   "id": "d81683c8",
   "metadata": {},
   "source": [
    "Score Customer"
   ]
  },
  {
   "cell_type": "code",
   "execution_count": 28,
   "id": "8c3a2332",
   "metadata": {
    "scrolled": true
   },
   "outputs": [
    {
     "name": "stdout",
     "output_type": "stream",
     "text": [
      "Customer score: 0.115\n"
     ]
    }
   ],
   "source": [
    "customer = {\"contract\": \"two_year\", \"tenure\": 12, \"monthlycharges\": 19.7}\n",
    "\n",
    "X_customer = dv.transform(customer)\n",
    "\n",
    "churn_proba = model.predict_proba(X_customer)[0,1]\n",
    "\n",
    "print(f'Customer score: {churn_proba.round(3)}')\n"
   ]
  },
  {
   "cell_type": "markdown",
   "id": "040e2160",
   "metadata": {},
   "source": [
    "Q4. "
   ]
  },
  {
   "cell_type": "markdown",
   "id": "eec4e513",
   "metadata": {},
   "source": [
    "See script in visual code files"
   ]
  },
  {
   "cell_type": "code",
   "execution_count": 29,
   "id": "df8781b1",
   "metadata": {},
   "outputs": [],
   "source": [
    "import requests"
   ]
  },
  {
   "cell_type": "code",
   "execution_count": 30,
   "id": "f0423071",
   "metadata": {},
   "outputs": [
    {
     "data": {
      "text/plain": [
       "{'churn': True, 'churn_probability': 0.9988892771007961}"
      ]
     },
     "execution_count": 30,
     "metadata": {},
     "output_type": "execute_result"
    }
   ],
   "source": [
    "url = \"http://localhost:9696/predict\"\n",
    "customer = {\"contract\": \"two_year\", \"tenure\": 1, \"monthlycharges\": 10}\n",
    "requests.post(url, json=customer).json()"
   ]
  },
  {
   "cell_type": "markdown",
   "id": "57089db2",
   "metadata": {},
   "source": [
    "Q5. sha256:1ee036b365452f8a1da0dbc3bf5e7dd0557cfd33f0e56b28054d1dbb9c852023"
   ]
  }
 ],
 "metadata": {
  "kernelspec": {
   "display_name": "Python 3 (ipykernel)",
   "language": "python",
   "name": "python3"
  },
  "language_info": {
   "codemirror_mode": {
    "name": "ipython",
    "version": 3
   },
   "file_extension": ".py",
   "mimetype": "text/x-python",
   "name": "python",
   "nbconvert_exporter": "python",
   "pygments_lexer": "ipython3",
   "version": "3.8.11"
  }
 },
 "nbformat": 4,
 "nbformat_minor": 5
}
